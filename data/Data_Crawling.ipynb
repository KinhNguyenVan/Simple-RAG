{
  "cells": [
    {
      "cell_type": "code",
      "execution_count": 5,
      "metadata": {
        "id": "HJMM80oRknBn"
      },
      "outputs": [],
      "source": [
        "from selenium import webdriver\n",
        "from selenium.webdriver.chrome.service import Service\n",
        "from selenium.webdriver.common.by import By\n",
        "from webdriver_manager.chrome import ChromeDriverManager\n",
        "from selenium.webdriver.chrome.options import Options\n",
        "from bs4 import BeautifulSoup\n",
        "import time"
      ]
    },
    {
      "cell_type": "code",
      "execution_count": null,
      "metadata": {
        "collapsed": true,
        "id": "Xo0zoTobknuO"
      },
      "outputs": [],
      "source": [
        "driver = webdriver.Chrome(service=Service(ChromeDriverManager().install()))\n",
        "\n",
        "url = f'https://www.presight.io/privacy-policy.html'\n",
        "driver.get(url)\n",
        "\n",
        "html_content = driver.page_source\n",
        "\n",
        "driver.quit()"
      ]
    },
    {
      "cell_type": "code",
      "execution_count": null,
      "metadata": {
        "id": "ajDm4RPEwFCM"
      },
      "outputs": [],
      "source": [
        "soup = BeautifulSoup(html_content, 'html.parser')"
      ]
    },
    {
      "cell_type": "code",
      "execution_count": null,
      "metadata": {
        "id": "Fnty15GVwJpt"
      },
      "outputs": [],
      "source": [
        "tags = []\n",
        "contents = []"
      ]
    },
    {
      "cell_type": "code",
      "execution_count": null,
      "metadata": {
        "id": "cRkxGV2mwLAD"
      },
      "outputs": [],
      "source": [
        "overview = soup.find('p',class_= 'chakra-text css-0').text.strip()\n",
        "tags.append('Overview')\n",
        "contents.append(overview)"
      ]
    },
    {
      "cell_type": "code",
      "execution_count": null,
      "metadata": {
        "id": "Yilac6mdwMqj"
      },
      "outputs": [],
      "source": [
        "latest_update = soup.find('h2',class_ = 'chakra-heading css-18j379d').text.strip()\n",
        "tags.append('Latest Update')\n",
        "contents.append(latest_update)"
      ]
    },
    {
      "cell_type": "code",
      "execution_count": null,
      "metadata": {
        "id": "TAxCFSRnwOKy"
      },
      "outputs": [],
      "source": [
        "html_content = soup.find('div', class_='css-fugq39')\n",
        "all_chunk = html_content.find_all('div', class_='chakra-stack css-o5l3sd')\n",
        "\n",
        "for chunk in all_chunk:\n",
        "    content_chunk = chunk.get_text('\\n',strip=True)\n",
        "    tags.append(content_chunk.split('\\n', 1)[0])\n",
        "    contents.append(content_chunk.split('\\n', 1)[1])"
      ]
    },
    {
      "cell_type": "code",
      "execution_count": null,
      "metadata": {
        "id": "F3DpOQYoATIm",
        "outputId": "3b3423d7-feae-48c6-fc27-405b994ec609"
      },
      "outputs": [
        {
          "data": {
            "text/plain": [
              "['At Presight, we are committed to protecting the privacy of our customers and visitors to our website. This Privacy Policy explains how we collect, use, and disclose information about our customers and visitors.',\n",
              " 'Last updated 15 Sep 2023',\n",
              " 'We collect several different types of information for various purposes to provide and improve our Service to you.',\n",
              " 'Personal Data\\nWhile using our Service, we may ask you to provide us with certain personally identifiable information that can be used to contact or identify you (\"Personal Data\"). Personally identifiable information may include, but is not limited to:\\nEmail address\\nFirst name and last name\\nPhone number\\nAddress, State, Province, ZIP/Postal code, City\\nCookies and Usage Data\\nUsage Data\\nWe may also collect information that your browser sends whenever you visit our Service or when you access the Service by or through a mobile device (\"Usage Data\"). This Usage Data may include information such as your computer\\'s Internet Protocol address (e.g. IP address), browser type, browser version, the pages of our Service that you visit, the time and date of your visit, the time spent on those pages, unique device identifiers, and other diagnostic data.',\n",
              " 'Presight uses the collected data for various purposes:\\nTo provide and maintain our Service\\nTo notify you about changes to our Service\\nTo allow you to participate in interactive features of our Service when you choose to do so\\nTo provide customer support\\nTo gather analysis or valuable information so that we can improve our Service\\nTo monitor the usage of our Service\\nTo detect, prevent and address technical issues',\n",
              " 'As personal information is collected, you will be asked to confirm that your information is correct prior to submitting it to Presight.',\n",
              " 'Accessing Your Personal Information\\nYou have the right to access all of your personal information that we hold. Through the application, you can correct, amend, or append your personal information by logging into the application and navigating to your settings and profile.\\nAutomated Edit Checks\\nPresight employs automated edit checks to ensure that data entry fields are completed properly when collecting personal information. These edit checks help maintain data integrity and accuracy. You are encouraged to provide complete and valid information to ensure the smooth processing of their personal data.',\n",
              " 'We may disclose your application data to third-party service providers who help us provide our services such as Datadog, AWS, Google Cloud and Google Workspace. We may also disclose your information in response to a legal request, such as a subpoena or court order, or to protect our rights or the rights of others.',\n",
              " 'Your personal data will not be subject to sharing, transfer, rental or exchange for the benefit of third parties, including AI models.',\n",
              " 'In all cases when users authenticate the platform to Google Workspace, the following applies:\\nWe do not retain or use Google User Data to develop, improve, or train generalized/non-personalized AI and/or ML models.\\nWe do not use Google Workspace APIs to develop, improve, or train generalized/non-personalized AI and/or ML models.\\nWe do not transfer Google User Data to third-party AI tools for the purpose of developing, improving, or training generalized or non-personalized AI and/or ML models.',\n",
              " 'All data is encrypted both in transit and at rest, using industry-standard encryption methods.\\nWe regularly perform security audits and vulnerability assessments to ensure the safety of our platform and the data stored within it.\\nOur employees are trained on best practices for data security, and access to customer data is restricted on a need-to-know basis.',\n",
              " 'Customer data is retained for as long as the account is in active status. Data enters an “expired” state when the account is voluntarily closed. Expired account data will be retained for 60 days. After this period, the account and related data will be removed.',\n",
              " 'We are committed to maintaining the quality and accuracy of the personal information we collect and process.\\nWe rely on data subjects to provide accurate and up-to-date information.\\nData subjects have the responsibility to inform us of any changes or inaccuracies in their personal data.\\nIf you believe that any information we hold about you is inaccurate, incomplete, or outdated, please contact us promptly to rectify the information.',\n",
              " 'We regularly monitor its data processing activities to ensure compliance with this privacy policy and applicable data protection laws.\\nIn the event of a data breach or any unauthorized access to your personal information, we will notify you and the appropriate authorities as required by law.\\nWe committed to cooperating with data protection authorities and complying with their advice and decisions regarding data protection and privacy matters.',\n",
              " 'We use cookies to enhance your experience on our website. You can control the use of cookies through your web browser settings.',\n",
              " 'Our website may contain links to third-party websites. We are not responsible for the privacy practices or content of those websites.',\n",
              " 'We may update this Privacy Policy from time to time. The updated Privacy Policy will be posted on our website.',\n",
              " 'If you have any questions about this Privacy Policy, please contact us through the customer portal or by email at\\npresight@presight.io.',\n",
              " \"We commit to only use personal information for the purposes identified in the entity's privacy policy.\"]"
            ]
          },
          "execution_count": 18,
          "metadata": {},
          "output_type": "execute_result"
        }
      ],
      "source": [
        "contents"
      ]
    },
    {
      "cell_type": "code",
      "execution_count": 9,
      "metadata": {
        "colab": {
          "base_uri": "https://localhost:8080/"
        },
        "id": "m2_speXWlD3L",
        "outputId": "8eddaf6b-aecb-4799-d3f6-dfb548028d7e"
      },
      "outputs": [
        {
          "name": "stdout",
          "output_type": "stream",
          "text": [
            "File đã được lưu thành công!\n"
          ]
        }
      ],
      "source": [
        "with open('contents.txt', 'w', encoding='utf-8') as file:\n",
        "    for item in contents:\n",
        "        file.write(item + '\\n')\n",
        "print(\"File đã được lưu thành công!\")\n"
      ]
    }
  ],
  "metadata": {
    "colab": {
      "provenance": []
    },
    "kernelspec": {
      "display_name": "myenv",
      "language": "python",
      "name": "python3"
    },
    "language_info": {
      "name": "python",
      "version": "3.9.13"
    }
  },
  "nbformat": 4,
  "nbformat_minor": 0
}
